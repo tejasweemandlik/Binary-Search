{
 "cells": [
  {
   "cell_type": "code",
   "execution_count": 1,
   "id": "f3aaf341",
   "metadata": {},
   "outputs": [
    {
     "name": "stdout",
     "output_type": "stream",
     "text": [
      "[0, 2, 4, 6, 8, 10]\n"
     ]
    }
   ],
   "source": [
    "def generate_seq(start, end):\n",
    "    if start > end:\n",
    "        return []  \n",
    "\n",
    "    seq = []\n",
    "    curr = start\n",
    "\n",
    "    while curr <= end:\n",
    "        seq.append(curr)\n",
    "        curr += 2\n",
    "\n",
    "    return seq\n",
    "\n",
    "start = 0\n",
    "end = 10\n",
    "r = generate_seq(start, end)\n",
    "print(r)"
   ]
  },
  {
   "cell_type": "code",
   "execution_count": null,
   "id": "5caee92d",
   "metadata": {},
   "outputs": [],
   "source": []
  }
 ],
 "metadata": {
  "kernelspec": {
   "display_name": "Python 3 (ipykernel)",
   "language": "python",
   "name": "python3"
  },
  "language_info": {
   "codemirror_mode": {
    "name": "ipython",
    "version": 3
   },
   "file_extension": ".py",
   "mimetype": "text/x-python",
   "name": "python",
   "nbconvert_exporter": "python",
   "pygments_lexer": "ipython3",
   "version": "3.11.4"
  }
 },
 "nbformat": 4,
 "nbformat_minor": 5
}
